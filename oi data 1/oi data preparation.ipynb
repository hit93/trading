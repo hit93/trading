{
 "cells": [
  {
   "cell_type": "code",
   "execution_count": 76,
   "metadata": {},
   "outputs": [],
   "source": [
    "import pandas as pd\n",
    "import glob\n",
    "import datetime\n",
    "# path = \"C:/Users/Hitesh/OI trading/oi data\"\n",
    "# filenames = glob.glob(path + \"/*.csv\")"
   ]
  },
  {
   "cell_type": "code",
   "execution_count": 77,
   "metadata": {},
   "outputs": [],
   "source": [
    "df = pd.read_csv('15.csv')"
   ]
  },
  {
   "cell_type": "code",
   "execution_count": 78,
   "metadata": {},
   "outputs": [],
   "source": [
    "df.index = df.index + ' ' + df.timestamp\n",
    "df.index = pd.to_datetime(df.index)"
   ]
  },
  {
   "cell_type": "code",
   "execution_count": 79,
   "metadata": {},
   "outputs": [],
   "source": [
    "import numpy as np"
   ]
  },
  {
   "cell_type": "code",
   "execution_count": 80,
   "metadata": {},
   "outputs": [],
   "source": [
    "df = df[np.logical_and(df.index.day>=25, df.index.day<=31)]"
   ]
  },
  {
   "cell_type": "code",
   "execution_count": 81,
   "metadata": {},
   "outputs": [
    {
     "data": {
      "text/html": [
       "<div>\n",
       "<style scoped>\n",
       "    .dataframe tbody tr th:only-of-type {\n",
       "        vertical-align: middle;\n",
       "    }\n",
       "\n",
       "    .dataframe tbody tr th {\n",
       "        vertical-align: top;\n",
       "    }\n",
       "\n",
       "    .dataframe thead th {\n",
       "        text-align: right;\n",
       "    }\n",
       "</style>\n",
       "<table border=\"1\" class=\"dataframe\">\n",
       "  <thead>\n",
       "    <tr style=\"text-align: right;\">\n",
       "      <th></th>\n",
       "      <th>timestamp</th>\n",
       "      <th>call</th>\n",
       "      <th>put</th>\n",
       "      <th>diff</th>\n",
       "      <th>sellOrBuy</th>\n",
       "    </tr>\n",
       "  </thead>\n",
       "  <tbody>\n",
       "    <tr>\n",
       "      <th>2020-12-28 09:15:00</th>\n",
       "      <td>09:15</td>\n",
       "      <td>5154900</td>\n",
       "      <td>5178200</td>\n",
       "      <td>23300</td>\n",
       "      <td>BUY</td>\n",
       "    </tr>\n",
       "    <tr>\n",
       "      <th>2020-12-28 09:16:00</th>\n",
       "      <td>09:16</td>\n",
       "      <td>5154350</td>\n",
       "      <td>5167875</td>\n",
       "      <td>13525</td>\n",
       "      <td>BUY</td>\n",
       "    </tr>\n",
       "    <tr>\n",
       "      <th>2020-12-28 09:17:00</th>\n",
       "      <td>09:17</td>\n",
       "      <td>5419775</td>\n",
       "      <td>5404250</td>\n",
       "      <td>-15525</td>\n",
       "      <td>SELL</td>\n",
       "    </tr>\n",
       "    <tr>\n",
       "      <th>2020-12-28 09:18:00</th>\n",
       "      <td>09:18</td>\n",
       "      <td>5397975</td>\n",
       "      <td>5404200</td>\n",
       "      <td>6225</td>\n",
       "      <td>BUY</td>\n",
       "    </tr>\n",
       "    <tr>\n",
       "      <th>2020-12-28 09:19:00</th>\n",
       "      <td>09:19</td>\n",
       "      <td>5449475</td>\n",
       "      <td>5305500</td>\n",
       "      <td>-143975</td>\n",
       "      <td>SELL</td>\n",
       "    </tr>\n",
       "    <tr>\n",
       "      <th>...</th>\n",
       "      <td>...</td>\n",
       "      <td>...</td>\n",
       "      <td>...</td>\n",
       "      <td>...</td>\n",
       "      <td>...</td>\n",
       "    </tr>\n",
       "    <tr>\n",
       "      <th>2020-12-31 15:25:00</th>\n",
       "      <td>15:25</td>\n",
       "      <td>14386100</td>\n",
       "      <td>14564300</td>\n",
       "      <td>178200</td>\n",
       "      <td>BUY</td>\n",
       "    </tr>\n",
       "    <tr>\n",
       "      <th>2020-12-31 15:26:00</th>\n",
       "      <td>15:26</td>\n",
       "      <td>14099600</td>\n",
       "      <td>14206825</td>\n",
       "      <td>107225</td>\n",
       "      <td>BUY</td>\n",
       "    </tr>\n",
       "    <tr>\n",
       "      <th>2020-12-31 15:27:00</th>\n",
       "      <td>15:27</td>\n",
       "      <td>13714100</td>\n",
       "      <td>13307625</td>\n",
       "      <td>-406475</td>\n",
       "      <td>SELL</td>\n",
       "    </tr>\n",
       "    <tr>\n",
       "      <th>2020-12-31 15:28:00</th>\n",
       "      <td>15:28</td>\n",
       "      <td>13666975</td>\n",
       "      <td>13633325</td>\n",
       "      <td>-33650</td>\n",
       "      <td>SELL</td>\n",
       "    </tr>\n",
       "    <tr>\n",
       "      <th>2020-12-31 15:29:00</th>\n",
       "      <td>15:29</td>\n",
       "      <td>13582425</td>\n",
       "      <td>14256200</td>\n",
       "      <td>673775</td>\n",
       "      <td>BUY</td>\n",
       "    </tr>\n",
       "  </tbody>\n",
       "</table>\n",
       "<p>1500 rows × 5 columns</p>\n",
       "</div>"
      ],
      "text/plain": [
       "                    timestamp      call       put    diff sellOrBuy\n",
       "2020-12-28 09:15:00     09:15   5154900   5178200   23300       BUY\n",
       "2020-12-28 09:16:00     09:16   5154350   5167875   13525       BUY\n",
       "2020-12-28 09:17:00     09:17   5419775   5404250  -15525      SELL\n",
       "2020-12-28 09:18:00     09:18   5397975   5404200    6225       BUY\n",
       "2020-12-28 09:19:00     09:19   5449475   5305500 -143975      SELL\n",
       "...                       ...       ...       ...     ...       ...\n",
       "2020-12-31 15:25:00     15:25  14386100  14564300  178200       BUY\n",
       "2020-12-31 15:26:00     15:26  14099600  14206825  107225       BUY\n",
       "2020-12-31 15:27:00     15:27  13714100  13307625 -406475      SELL\n",
       "2020-12-31 15:28:00     15:28  13666975  13633325  -33650      SELL\n",
       "2020-12-31 15:29:00     15:29  13582425  14256200  673775       BUY\n",
       "\n",
       "[1500 rows x 5 columns]"
      ]
     },
     "execution_count": 81,
     "metadata": {},
     "output_type": "execute_result"
    }
   ],
   "source": [
    "# df.drop(df.head(1).index, inplace=True)\n",
    "df"
   ]
  },
  {
   "cell_type": "code",
   "execution_count": 82,
   "metadata": {},
   "outputs": [],
   "source": [
    "df.to_csv('modified 15.csv')"
   ]
  },
  {
   "cell_type": "code",
   "execution_count": null,
   "metadata": {},
   "outputs": [],
   "source": []
  }
 ],
 "metadata": {
  "kernelspec": {
   "display_name": "Python 3",
   "language": "python",
   "name": "python3"
  },
  "language_info": {
   "codemirror_mode": {
    "name": "ipython",
    "version": 3
   },
   "file_extension": ".py",
   "mimetype": "text/x-python",
   "name": "python",
   "nbconvert_exporter": "python",
   "pygments_lexer": "ipython3",
   "version": "3.8.3"
  }
 },
 "nbformat": 4,
 "nbformat_minor": 4
}
